{
  "nbformat": 4,
  "nbformat_minor": 0,
  "metadata": {
    "kernelspec": {
      "display_name": "Python 3",
      "language": "python",
      "name": "python3"
    },
    "language_info": {
      "codemirror_mode": {
        "name": "ipython",
        "version": 3
      },
      "file_extension": ".py",
      "mimetype": "text/x-python",
      "name": "python",
      "nbconvert_exporter": "python",
      "pygments_lexer": "ipython3",
      "version": "3.6.5"
    },
    "colab": {
      "name": "finalfile.ipynb",
      "provenance": []
    },
    "accelerator": "GPU"
  },
  "cells": [
    {
      "cell_type": "code",
      "metadata": {
        "_cell_guid": "79c7e3d0-c299-4dcb-8224-4455121ee9b0",
        "_uuid": "d629ff2d2480ee46fbb7e2d37f6b5fab8052498a",
        "id": "d-kOGdGLZs6u",
        "colab_type": "code",
        "colab": {}
      },
      "source": [
        "import cv2\n",
        "import os\n",
        "from tqdm import tqdm\n",
        "import matplotlib.pyplot as plt\n",
        "import numpy as np\n",
        "from tensorflow.keras.preprocessing.image import ImageDataGenerator\n",
        "from tensorflow.keras.applications import *\n",
        "from tensorflow.keras.layers import *\n",
        "from tensorflow.keras.models import *\n",
        "from tensorflow.keras.optimizers import Adam\n",
        "from tensorflow.keras.utils import to_categorical\n",
        "from sklearn.preprocessing import LabelEncoder\n",
        "from sklearn.model_selection import train_test_split\n",
        "from sklearn.metrics import *\n",
        "from tensorflow.keras.callbacks import *\n"
      ],
      "execution_count": 0,
      "outputs": []
    },
    {
      "cell_type": "markdown",
      "metadata": {
        "id": "8TCvz-xSc8-6",
        "colab_type": "text"
      },
      "source": [
        "Size of image used"
      ]
    },
    {
      "cell_type": "code",
      "metadata": {
        "id": "uCdbI6tDaoZd",
        "colab_type": "code",
        "outputId": "68d5f69a-4ff5-427c-dc93-4811e2a0824d",
        "colab": {
          "base_uri": "https://localhost:8080/",
          "height": 121
        }
      },
      "source": [
        "from google.colab import drive\n",
        "drive.mount('/content/drive',force_remount=True)"
      ],
      "execution_count": 3,
      "outputs": [
        {
          "output_type": "stream",
          "text": [
            "Go to this URL in a browser: https://accounts.google.com/o/oauth2/auth?client_id=947318989803-6bn6qk8qdgf4n4g3pfee6491hc0brc4i.apps.googleusercontent.com&redirect_uri=urn%3aietf%3awg%3aoauth%3a2.0%3aoob&response_type=code&scope=email%20https%3a%2f%2fwww.googleapis.com%2fauth%2fdocs.test%20https%3a%2f%2fwww.googleapis.com%2fauth%2fdrive%20https%3a%2f%2fwww.googleapis.com%2fauth%2fdrive.photos.readonly%20https%3a%2f%2fwww.googleapis.com%2fauth%2fpeopleapi.readonly\n",
            "\n",
            "Enter your authorization code:\n",
            "··········\n",
            "Mounted at /content/drive\n"
          ],
          "name": "stdout"
        }
      ]
    },
    {
      "cell_type": "code",
      "metadata": {
        "id": "WrcfpudcZs67",
        "colab_type": "code",
        "colab": {}
      },
      "source": [
        "imgSize = 256"
      ],
      "execution_count": 0,
      "outputs": []
    },
    {
      "cell_type": "markdown",
      "metadata": {
        "id": "194Dag6gdCpw",
        "colab_type": "text"
      },
      "source": [
        "# Load Data"
      ]
    },
    {
      "cell_type": "code",
      "metadata": {
        "id": "5FaWW5L7Zs7J",
        "colab_type": "code",
        "colab": {}
      },
      "source": [
        "x_train = np.load(\"/content/drive/My Drive/Colab Notebooks/trainx.npy\")\n",
        "y_train = np.load(\"/content/drive/My Drive/Colab Notebooks/trainy.npy\")"
      ],
      "execution_count": 0,
      "outputs": []
    },
    {
      "cell_type": "code",
      "metadata": {
        "id": "2cX711-cZs7P",
        "colab_type": "code",
        "outputId": "900847e5-0987-4bca-b6f9-a8f3aec71727",
        "colab": {
          "base_uri": "https://localhost:8080/",
          "height": 50
        }
      },
      "source": [
        "print(x_train.shape)\n",
        "print(y_train.shape)"
      ],
      "execution_count": 5,
      "outputs": [
        {
          "output_type": "stream",
          "text": [
            "(2318, 512, 512, 3)\n",
            "(2318,)\n"
          ],
          "name": "stdout"
        }
      ]
    },
    {
      "cell_type": "markdown",
      "metadata": {
        "id": "a7aQJ6BmZs7T",
        "colab_type": "text"
      },
      "source": [
        "# Resize Image"
      ]
    },
    {
      "cell_type": "code",
      "metadata": {
        "id": "ncRoVSVZZs7U",
        "colab_type": "code",
        "colab": {
          "base_uri": "https://localhost:8080/",
          "height": 34
        },
        "outputId": "3f40bc76-f6f4-4103-ae4a-7a4e224ed995"
      },
      "source": [
        "x_train_new = np.zeros(shape=(2318, imgSize, imgSize, 3))  # Array with all images\n",
        "scale_percent = 50 # percent of original size\n",
        "width = imgSize\n",
        "height = imgSize\n",
        "dim = (width, height)\n",
        "\n",
        "img=x_train[0]\n",
        "resized = cv2.resize(img, dim , interpolation = cv2.INTER_AREA)\n",
        "for i in tqdm(range(2318)):\n",
        "    img=x_train[i]\n",
        "    x_train_new[i]= cv2.resize(img, dim , interpolation = cv2.INTER_AREA)\n",
        "\n",
        "del(x_train)\n"
      ],
      "execution_count": 6,
      "outputs": [
        {
          "output_type": "stream",
          "text": [
            "100%|██████████| 2318/2318 [00:01<00:00, 1723.58it/s]\n"
          ],
          "name": "stderr"
        }
      ]
    },
    {
      "cell_type": "code",
      "metadata": {
        "id": "kVHROxBVZs7X",
        "colab_type": "code",
        "outputId": "a4f8221d-9fbf-4e87-c5a8-f5c945533b35",
        "colab": {
          "base_uri": "https://localhost:8080/",
          "height": 84
        }
      },
      "source": [
        "print(x_train_new.shape)\n",
        "print(y_train.shape)\n",
        "\n",
        "Y=y_train\n",
        "del(y_train)\n",
        "X=x_train_new\n",
        "del(x_train_new)\n",
        "\n",
        "print(X.shape)\n",
        "print(Y.shape)"
      ],
      "execution_count": 7,
      "outputs": [
        {
          "output_type": "stream",
          "text": [
            "(2318, 256, 256, 3)\n",
            "(2318,)\n",
            "(2318, 256, 256, 3)\n",
            "(2318,)\n"
          ],
          "name": "stdout"
        }
      ]
    },
    {
      "cell_type": "markdown",
      "metadata": {
        "id": "H-wMdqN_dcHt",
        "colab_type": "text"
      },
      "source": [
        "Categorize Y"
      ]
    },
    {
      "cell_type": "code",
      "metadata": {
        "id": "i2Mx_RBDZs7a",
        "colab_type": "code",
        "colab": {}
      },
      "source": [
        "le = LabelEncoder()\n",
        "Y = le.fit_transform(Y)\n",
        "Y = to_categorical(Y)"
      ],
      "execution_count": 0,
      "outputs": []
    },
    {
      "cell_type": "code",
      "metadata": {
        "id": "qEO2v7EeZs7d",
        "colab_type": "code",
        "outputId": "16982f07-1c3e-4022-b439-944db5d64a18",
        "colab": {
          "base_uri": "https://localhost:8080/",
          "height": 50
        }
      },
      "source": [
        "print(X.shape)\n",
        "print(Y.shape)"
      ],
      "execution_count": 9,
      "outputs": [
        {
          "output_type": "stream",
          "text": [
            "(2318, 256, 256, 3)\n",
            "(2318, 3)\n"
          ],
          "name": "stdout"
        }
      ]
    },
    {
      "cell_type": "markdown",
      "metadata": {
        "id": "rRZckftDdgFQ",
        "colab_type": "text"
      },
      "source": [
        "# Splitting the Input "
      ]
    },
    {
      "cell_type": "code",
      "metadata": {
        "id": "6wOv8sdIZs7h",
        "colab_type": "code",
        "colab": {}
      },
      "source": [
        "(trainX, ValidX, trainY, ValidY) = train_test_split(X, Y, test_size=0.20, stratify=Y, random_state=42)"
      ],
      "execution_count": 0,
      "outputs": []
    },
    {
      "cell_type": "code",
      "metadata": {
        "id": "bmbE1fE-Zs7o",
        "colab_type": "code",
        "outputId": "125f66c3-1bd4-4522-eaca-dc9b6c5eabff",
        "colab": {
          "base_uri": "https://localhost:8080/",
          "height": 50
        }
      },
      "source": [
        "del X\n",
        "del Y\n",
        "# del trainX\n",
        "# del testX\n",
        "# del ValidX\n",
        "print(trainY.shape)\n",
        "print(trainX.shape)\n",
        "# ntimes = 6\n",
        "# trainY = trainY.tolist()\n",
        "# print(len(trainX))"
      ],
      "execution_count": 11,
      "outputs": [
        {
          "output_type": "stream",
          "text": [
            "(1854, 3)\n",
            "(1854, 256, 256, 3)\n"
          ],
          "name": "stdout"
        }
      ]
    },
    {
      "cell_type": "code",
      "metadata": {
        "id": "DkzdXVQbZs7u",
        "colab_type": "code",
        "colab": {}
      },
      "source": [
        "trainX = np.array(trainX).astype('float16')/255\n",
        "ValidX = np.array(ValidX).astype('float16')/255\n",
        "# testX = np.array(testX).astype('float16')/255"
      ],
      "execution_count": 0,
      "outputs": []
    },
    {
      "cell_type": "markdown",
      "metadata": {
        "id": "ra4gJ0NSdpBG",
        "colab_type": "text"
      },
      "source": [
        "# Augumentation"
      ]
    },
    {
      "cell_type": "code",
      "metadata": {
        "id": "14uzg_UxZs7y",
        "colab_type": "code",
        "colab": {}
      },
      "source": [
        "trainAug = ImageDataGenerator(rotation_range=20, horizontal_flip = True,fill_mode=\"nearest\")\n",
        "# validAug = ImageDataGenerator()\n",
        "\n",
        "# validation_generator = test_datagen.flow_from_directory('data/validation',target_size=(150, 150),batch_size=32,class_mode='binary')\n"
      ],
      "execution_count": 0,
      "outputs": []
    },
    {
      "cell_type": "code",
      "metadata": {
        "id": "3KIQxtbMZs71",
        "colab_type": "code",
        "outputId": "6f492254-e24e-4067-b5f0-bde2161c5424",
        "colab": {
          "base_uri": "https://localhost:8080/",
          "height": 84
        }
      },
      "source": [
        "print(len(ValidY))\n",
        "print(len(ValidX))\n",
        "print(len(trainX))\n",
        "print(len(trainY))\n"
      ],
      "execution_count": 14,
      "outputs": [
        {
          "output_type": "stream",
          "text": [
            "464\n",
            "464\n",
            "1854\n",
            "1854\n"
          ],
          "name": "stdout"
        }
      ]
    },
    {
      "cell_type": "markdown",
      "metadata": {
        "id": "yOQAloYKdtC_",
        "colab_type": "text"
      },
      "source": [
        "# Save Best Model"
      ]
    },
    {
      "cell_type": "code",
      "metadata": {
        "id": "hnngj8-hZs74",
        "colab_type": "code",
        "colab": {}
      },
      "source": [
        "best_val_acc = 0\n",
        "best_train_acc = 0\n",
        "def saveModel(epoch,logs):\n",
        "    val_acc = logs['val_accuracy']\n",
        "    train_acc = logs['accuracy']\n",
        "    global best_val_acc\n",
        "    global best_train_acc\n",
        "\n",
        "    if val_acc > best_val_acc:\n",
        "        best_val_acc = val_acc\n",
        "        model.save('model_Vgg_vis.h5')\n",
        "    elif val_acc == best_val_acc:\n",
        "        if train_acc > best_train_acc:\n",
        "            best_train_acc= train_acc\n",
        "            model.save('model_Vgg_vis.h5')"
      ],
      "execution_count": 0,
      "outputs": []
    },
    {
      "cell_type": "markdown",
      "metadata": {
        "id": "g_IxqVjvZs77",
        "colab_type": "text"
      },
      "source": [
        "# MODEL Arch"
      ]
    },
    {
      "cell_type": "code",
      "metadata": {
        "_kg_hide-output": true,
        "id": "YPmmSFWGZs77",
        "colab_type": "code",
        "colab": {}
      },
      "source": [
        "baseModel = VGG16(weights=\"imagenet\", include_top=False, input_tensor=Input(shape=(imgSize, imgSize, 3)))\n",
        "headModel = baseModel.output\n",
        "headModel = Flatten(name=\"flatten\")(headModel)\n",
        "headModel = Dense(64, activation=\"relu\")(headModel)\n",
        "headModel = Dropout(0.5)(headModel)\n",
        "headModel = Dense(3, activation=\"softmax\")(headModel)\n",
        "model = Model(inputs=baseModel.input, outputs=headModel)\n",
        "for layer in baseModel.layers:\n",
        "    layer.trainable = False"
      ],
      "execution_count": 0,
      "outputs": []
    },
    {
      "cell_type": "markdown",
      "metadata": {
        "id": "R08fHLO9Zs7-",
        "colab_type": "text"
      },
      "source": [
        "# Train model"
      ]
    },
    {
      "cell_type": "code",
      "metadata": {
        "_kg_hide-output": true,
        "id": "i-KZjTcsZs7_",
        "colab_type": "code",
        "outputId": "915669d0-c8dd-416e-c3f1-80a6621a5e42",
        "colab": {
          "base_uri": "https://localhost:8080/",
          "height": 1000
        }
      },
      "source": [
        "INIT_LR = 3e-4\n",
        "EPOCHS = 40\n",
        "BS = 32\n",
        "opt = Adam(lr=INIT_LR, decay=INIT_LR / EPOCHS)\n",
        "model.compile(loss=\"categorical_crossentropy\", optimizer=opt, metrics=[\"accuracy\"])\n",
        "H = model.fit_generator(\n",
        "    trainAug.flow(trainX, trainY, batch_size=BS),\n",
        "    steps_per_epoch=len(trainX) // BS,\n",
        "    validation_data=(ValidX, ValidY),\n",
        "    validation_steps=len(ValidX) // BS,\n",
        "    callbacks= [LambdaCallback(on_epoch_end=saveModel),\n",
        "#              EarlyStopping(monitor='val_accuracy', patience=3),\n",
        "#              ReduceLROnPlateau(monitor='val_accuracy', factor=0.5,patience=2),\n",
        "              ],\n",
        "    epochs=EPOCHS)"
      ],
      "execution_count": 17,
      "outputs": [
        {
          "output_type": "stream",
          "text": [
            "WARNING:tensorflow:From <ipython-input-17-541af878493a>:15: Model.fit_generator (from tensorflow.python.keras.engine.training) is deprecated and will be removed in a future version.\n",
            "Instructions for updating:\n",
            "Please use Model.fit, which supports generators.\n",
            "Epoch 1/40\n",
            "57/57 [==============================] - 47s 826ms/step - loss: 0.6406 - accuracy: 0.7552 - val_loss: 0.3139 - val_accuracy: 0.8599\n",
            "Epoch 2/40\n",
            "57/57 [==============================] - 38s 674ms/step - loss: 0.3928 - accuracy: 0.8551 - val_loss: 0.2713 - val_accuracy: 0.8793\n",
            "Epoch 3/40\n",
            "57/57 [==============================] - 39s 680ms/step - loss: 0.3361 - accuracy: 0.8672 - val_loss: 0.2413 - val_accuracy: 0.8966\n",
            "Epoch 4/40\n",
            "57/57 [==============================] - 39s 682ms/step - loss: 0.2800 - accuracy: 0.9023 - val_loss: 0.1855 - val_accuracy: 0.9267\n",
            "Epoch 5/40\n",
            "57/57 [==============================] - 39s 678ms/step - loss: 0.2636 - accuracy: 0.9029 - val_loss: 0.1724 - val_accuracy: 0.9375\n",
            "Epoch 6/40\n",
            "57/57 [==============================] - 38s 669ms/step - loss: 0.2655 - accuracy: 0.8963 - val_loss: 0.1762 - val_accuracy: 0.9418\n",
            "Epoch 7/40\n",
            "57/57 [==============================] - 39s 677ms/step - loss: 0.2452 - accuracy: 0.9045 - val_loss: 0.1683 - val_accuracy: 0.9526\n",
            "Epoch 8/40\n",
            "57/57 [==============================] - 38s 673ms/step - loss: 0.2421 - accuracy: 0.9078 - val_loss: 0.1659 - val_accuracy: 0.9569\n",
            "Epoch 9/40\n",
            "57/57 [==============================] - 38s 665ms/step - loss: 0.2203 - accuracy: 0.9144 - val_loss: 0.1428 - val_accuracy: 0.9526\n",
            "Epoch 10/40\n",
            "57/57 [==============================] - 38s 661ms/step - loss: 0.2134 - accuracy: 0.9193 - val_loss: 0.1536 - val_accuracy: 0.9418\n",
            "Epoch 11/40\n",
            "57/57 [==============================] - 38s 662ms/step - loss: 0.2097 - accuracy: 0.9336 - val_loss: 0.1488 - val_accuracy: 0.9483\n",
            "Epoch 12/40\n",
            "57/57 [==============================] - 38s 663ms/step - loss: 0.2000 - accuracy: 0.9260 - val_loss: 0.1607 - val_accuracy: 0.9591\n",
            "Epoch 13/40\n",
            "57/57 [==============================] - 38s 662ms/step - loss: 0.1995 - accuracy: 0.9243 - val_loss: 0.1492 - val_accuracy: 0.9569\n",
            "Epoch 14/40\n",
            "57/57 [==============================] - 38s 660ms/step - loss: 0.1965 - accuracy: 0.9149 - val_loss: 0.1220 - val_accuracy: 0.9547\n",
            "Epoch 15/40\n",
            "57/57 [==============================] - 38s 659ms/step - loss: 0.1728 - accuracy: 0.9243 - val_loss: 0.1212 - val_accuracy: 0.9547\n",
            "Epoch 16/40\n",
            "57/57 [==============================] - 38s 666ms/step - loss: 0.1882 - accuracy: 0.9303 - val_loss: 0.1231 - val_accuracy: 0.9591\n",
            "Epoch 17/40\n",
            "57/57 [==============================] - 38s 660ms/step - loss: 0.1879 - accuracy: 0.9199 - val_loss: 0.1265 - val_accuracy: 0.9569\n",
            "Epoch 18/40\n",
            "57/57 [==============================] - 37s 654ms/step - loss: 0.1705 - accuracy: 0.9330 - val_loss: 0.1251 - val_accuracy: 0.9483\n",
            "Epoch 19/40\n",
            "57/57 [==============================] - 37s 653ms/step - loss: 0.1667 - accuracy: 0.9308 - val_loss: 0.1175 - val_accuracy: 0.9547\n",
            "Epoch 20/40\n",
            "57/57 [==============================] - 37s 653ms/step - loss: 0.1792 - accuracy: 0.9259 - val_loss: 0.1177 - val_accuracy: 0.9547\n",
            "Epoch 21/40\n",
            "57/57 [==============================] - 37s 656ms/step - loss: 0.1842 - accuracy: 0.9160 - val_loss: 0.1165 - val_accuracy: 0.9569\n",
            "Epoch 22/40\n",
            "57/57 [==============================] - 37s 650ms/step - loss: 0.1789 - accuracy: 0.9270 - val_loss: 0.1596 - val_accuracy: 0.9483\n",
            "Epoch 23/40\n",
            "57/57 [==============================] - 37s 654ms/step - loss: 0.1790 - accuracy: 0.9204 - val_loss: 0.1165 - val_accuracy: 0.9547\n",
            "Epoch 24/40\n",
            "57/57 [==============================] - 38s 661ms/step - loss: 0.1689 - accuracy: 0.9248 - val_loss: 0.1125 - val_accuracy: 0.9569\n",
            "Epoch 25/40\n",
            "57/57 [==============================] - 37s 651ms/step - loss: 0.1657 - accuracy: 0.9330 - val_loss: 0.1177 - val_accuracy: 0.9547\n",
            "Epoch 26/40\n",
            "57/57 [==============================] - 37s 652ms/step - loss: 0.1474 - accuracy: 0.9358 - val_loss: 0.1355 - val_accuracy: 0.9483\n",
            "Epoch 27/40\n",
            "57/57 [==============================] - 37s 644ms/step - loss: 0.1445 - accuracy: 0.9286 - val_loss: 0.1715 - val_accuracy: 0.9461\n",
            "Epoch 28/40\n",
            "57/57 [==============================] - 37s 647ms/step - loss: 0.1440 - accuracy: 0.9352 - val_loss: 0.1138 - val_accuracy: 0.9612\n",
            "Epoch 29/40\n",
            "57/57 [==============================] - 37s 650ms/step - loss: 0.1486 - accuracy: 0.9424 - val_loss: 0.1172 - val_accuracy: 0.9612\n",
            "Epoch 30/40\n",
            "57/57 [==============================] - 37s 650ms/step - loss: 0.1411 - accuracy: 0.9369 - val_loss: 0.1169 - val_accuracy: 0.9655\n",
            "Epoch 31/40\n",
            "57/57 [==============================] - 37s 647ms/step - loss: 0.1452 - accuracy: 0.9380 - val_loss: 0.1280 - val_accuracy: 0.9591\n",
            "Epoch 32/40\n",
            "57/57 [==============================] - 37s 647ms/step - loss: 0.1466 - accuracy: 0.9385 - val_loss: 0.1236 - val_accuracy: 0.9591\n",
            "Epoch 33/40\n",
            "57/57 [==============================] - 37s 655ms/step - loss: 0.1237 - accuracy: 0.9424 - val_loss: 0.1167 - val_accuracy: 0.9655\n",
            "Epoch 34/40\n",
            "57/57 [==============================] - 37s 648ms/step - loss: 0.1364 - accuracy: 0.9391 - val_loss: 0.1104 - val_accuracy: 0.9655\n",
            "Epoch 35/40\n",
            "57/57 [==============================] - 37s 645ms/step - loss: 0.1303 - accuracy: 0.9341 - val_loss: 0.1038 - val_accuracy: 0.9655\n",
            "Epoch 36/40\n",
            "57/57 [==============================] - 37s 649ms/step - loss: 0.1501 - accuracy: 0.9319 - val_loss: 0.1047 - val_accuracy: 0.9720\n",
            "Epoch 37/40\n",
            "57/57 [==============================] - 37s 648ms/step - loss: 0.1288 - accuracy: 0.9457 - val_loss: 0.1354 - val_accuracy: 0.9569\n",
            "Epoch 38/40\n",
            "57/57 [==============================] - 37s 649ms/step - loss: 0.1467 - accuracy: 0.9352 - val_loss: 0.1040 - val_accuracy: 0.9677\n",
            "Epoch 39/40\n",
            "57/57 [==============================] - 37s 648ms/step - loss: 0.1307 - accuracy: 0.9391 - val_loss: 0.1082 - val_accuracy: 0.9634\n",
            "Epoch 40/40\n",
            "57/57 [==============================] - 37s 647ms/step - loss: 0.1403 - accuracy: 0.9352 - val_loss: 0.1156 - val_accuracy: 0.9634\n"
          ],
          "name": "stdout"
        }
      ]
    },
    {
      "cell_type": "markdown",
      "metadata": {
        "id": "8lOFCzyvd1Uk",
        "colab_type": "text"
      },
      "source": [
        "Model History"
      ]
    },
    {
      "cell_type": "code",
      "metadata": {
        "id": "nafApIUOZs8C",
        "colab_type": "code",
        "outputId": "aef9dd32-8f13-4410-937b-4bb1c1395073",
        "colab": {
          "base_uri": "https://localhost:8080/",
          "height": 316
        }
      },
      "source": [
        "N = EPOCHS\n",
        "plt.style.use(\"ggplot\")\n",
        "plt.figure()\n",
        "plt.plot(np.arange(0, N), H.history[\"loss\"], label=\"train_loss\")\n",
        "plt.plot(np.arange(0, N), H.history[\"val_loss\"], label=\"val_loss\")\n",
        "plt.plot(np.arange(0, N), H.history[\"accuracy\"], label=\"train_acc\")\n",
        "plt.plot(np.arange(0, N), H.history[\"val_accuracy\"], label=\"val_acc\")\n",
        "plt.title(\"Training Loss and Accuracy on COVID-19 Dataset\")\n",
        "plt.xlabel(\"Epoch #\")\n",
        "plt.ylabel(\"Loss/Accuracy\")\n",
        "plt.legend(loc=\"lower left\")"
      ],
      "execution_count": 18,
      "outputs": [
        {
          "output_type": "execute_result",
          "data": {
            "text/plain": [
              "<matplotlib.legend.Legend at 0x7f8ea0258400>"
            ]
          },
          "metadata": {
            "tags": []
          },
          "execution_count": 18
        },
        {
          "output_type": "display_data",
          "data": {
            "image/png": "[encoded data removed]",
            "text/plain": [
              "<Figure size 432x288 with 1 Axes>"
            ]
          },
          "metadata": {
            "tags": []
          }
        }
      ]
    },
    {
      "cell_type": "markdown",
      "metadata": {
        "id": "nf_JPRdVZs8F",
        "colab_type": "text"
      },
      "source": [
        "# Load best model"
      ]
    },
    {
      "cell_type": "code",
      "metadata": {
        "id": "Y0AAOrWOZs8G",
        "colab_type": "code",
        "colab": {}
      },
      "source": [
        "model= load_model('model_Vgg_vis.h5')"
      ],
      "execution_count": 0,
      "outputs": []
    },
    {
      "cell_type": "code",
      "metadata": {
        "id": "t29E9g7XqNQ6",
        "colab_type": "code",
        "colab": {}
      },
      "source": [
        "model.save('/content/drive/My Drive/model_Vgg_vis.h5')\n"
      ],
      "execution_count": 0,
      "outputs": []
    },
    {
      "cell_type": "markdown",
      "metadata": {
        "id": "KU0yzuwdZs8L",
        "colab_type": "text"
      },
      "source": [
        "# Result "
      ]
    },
    {
      "cell_type": "code",
      "metadata": {
        "id": "GifsCscJZs8W",
        "colab_type": "code",
        "outputId": "6e0f606c-ad18-4795-9064-3dc89bf492e5",
        "colab": {
          "base_uri": "https://localhost:8080/",
          "height": 924
        }
      },
      "source": [
        "model.summary()\n"
      ],
      "execution_count": 24,
      "outputs": [
        {
          "output_type": "stream",
          "text": [
            "Model: \"model\"\n",
            "_________________________________________________________________\n",
            "Layer (type)                 Output Shape              Param #   \n",
            "=================================================================\n",
            "input_1 (InputLayer)         [(None, 256, 256, 3)]     0         \n",
            "_________________________________________________________________\n",
            "block1_conv1 (Conv2D)        (None, 256, 256, 64)      1792      \n",
            "_________________________________________________________________\n",
            "block1_conv2 (Conv2D)        (None, 256, 256, 64)      36928     \n",
            "_________________________________________________________________\n",
            "block1_pool (MaxPooling2D)   (None, 128, 128, 64)      0         \n",
            "_________________________________________________________________\n",
            "block2_conv1 (Conv2D)        (None, 128, 128, 128)     73856     \n",
            "_________________________________________________________________\n",
            "block2_conv2 (Conv2D)        (None, 128, 128, 128)     147584    \n",
            "_________________________________________________________________\n",
            "block2_pool (MaxPooling2D)   (None, 64, 64, 128)       0         \n",
            "_________________________________________________________________\n",
            "block3_conv1 (Conv2D)        (None, 64, 64, 256)       295168    \n",
            "_________________________________________________________________\n",
            "block3_conv2 (Conv2D)        (None, 64, 64, 256)       590080    \n",
            "_________________________________________________________________\n",
            "block3_conv3 (Conv2D)        (None, 64, 64, 256)       590080    \n",
            "_________________________________________________________________\n",
            "block3_pool (MaxPooling2D)   (None, 32, 32, 256)       0         \n",
            "_________________________________________________________________\n",
            "block4_conv1 (Conv2D)        (None, 32, 32, 512)       1180160   \n",
            "_________________________________________________________________\n",
            "block4_conv2 (Conv2D)        (None, 32, 32, 512)       2359808   \n",
            "_________________________________________________________________\n",
            "block4_conv3 (Conv2D)        (None, 32, 32, 512)       2359808   \n",
            "_________________________________________________________________\n",
            "block4_pool (MaxPooling2D)   (None, 16, 16, 512)       0         \n",
            "_________________________________________________________________\n",
            "block5_conv1 (Conv2D)        (None, 16, 16, 512)       2359808   \n",
            "_________________________________________________________________\n",
            "block5_conv2 (Conv2D)        (None, 16, 16, 512)       2359808   \n",
            "_________________________________________________________________\n",
            "block5_conv3 (Conv2D)        (None, 16, 16, 512)       2359808   \n",
            "_________________________________________________________________\n",
            "block5_pool (MaxPooling2D)   (None, 8, 8, 512)         0         \n",
            "_________________________________________________________________\n",
            "flatten (Flatten)            (None, 32768)             0         \n",
            "_________________________________________________________________\n",
            "dense (Dense)                (None, 64)                2097216   \n",
            "_________________________________________________________________\n",
            "dropout (Dropout)            (None, 64)                0         \n",
            "_________________________________________________________________\n",
            "dense_1 (Dense)              (None, 3)                 195       \n",
            "=================================================================\n",
            "Total params: 16,812,099\n",
            "Trainable params: 2,097,411\n",
            "Non-trainable params: 14,714,688\n",
            "_________________________________________________________________\n"
          ],
          "name": "stdout"
        }
      ]
    },
    {
      "cell_type": "code",
      "metadata": {
        "id": "obW48M5v5Any",
        "colab_type": "code",
        "outputId": "86568890-3272-49db-d537-afb56a2d9a35",
        "colab": {
          "base_uri": "https://localhost:8080/",
          "height": 34
        }
      },
      "source": [
        "print(le.classes_)"
      ],
      "execution_count": 0,
      "outputs": [
        {
          "output_type": "stream",
          "text": [
            "[0 1 2]\n"
          ],
          "name": "stdout"
        }
      ]
    },
    {
      "cell_type": "markdown",
      "metadata": {
        "id": "cZUzLgkN5_Md",
        "colab_type": "text"
      },
      "source": [
        "Accuracy and details on Validation"
      ]
    },
    {
      "cell_type": "code",
      "metadata": {
        "id": "UmMjZ9575f4w",
        "colab_type": "code",
        "colab": {}
      },
      "source": [
        "predIdxs_valid = model.predict(ValidX, batch_size=32)\n",
        "predIdxs_valid = np.argmax(predIdxs_valid, axis=1)\n",
        "# predIdxs_valid= predIdxs_valid.tolist()\n"
      ],
      "execution_count": 0,
      "outputs": []
    },
    {
      "cell_type": "code",
      "metadata": {
        "id": "Huvqptoxlgk4",
        "colab_type": "code",
        "colab": {
          "base_uri": "https://localhost:8080/",
          "height": 235
        },
        "outputId": "84fb819d-2f84-4ad0-e24a-1c6f980f104a"
      },
      "source": [
        "print(predIdxs_valid)"
      ],
      "execution_count": 32,
      "outputs": [
        {
          "output_type": "stream",
          "text": [
            "[1 2 2 1 2 2 2 2 2 2 2 2 2 2 1 0 1 1 1 1 1 1 2 1 2 2 2 1 2 1 2 2 2 0 1 1 2\n",
            " 2 0 1 1 1 1 2 2 1 1 2 1 1 1 1 1 1 1 1 1 2 2 1 1 1 0 2 1 2 2 0 1 2 2 1 2 2\n",
            " 2 1 1 0 2 0 1 1 1 1 2 1 2 1 1 1 1 2 2 2 2 2 1 1 2 1 2 1 1 2 2 2 0 2 2 2 2\n",
            " 2 1 0 1 1 1 2 2 2 1 1 2 1 2 1 2 1 2 2 2 0 1 1 2 2 1 1 1 2 2 1 1 1 1 1 0 1\n",
            " 1 1 2 2 2 2 2 2 1 0 0 2 2 2 1 2 0 2 2 1 2 1 2 2 2 1 1 1 2 2 2 2 1 1 1 1 2\n",
            " 2 1 2 2 2 1 2 1 1 1 2 2 2 2 2 1 1 1 2 2 1 1 0 1 1 0 1 2 1 1 0 1 2 1 2 1 1\n",
            " 2 1 1 2 2 1 1 0 2 1 1 2 1 1 2 1 2 2 0 2 1 2 2 2 0 2 1 1 1 2 1 1 0 1 2 2 2\n",
            " 2 2 1 2 2 1 2 1 1 2 0 2 2 1 0 1 1 1 2 2 1 2 1 2 2 0 2 1 2 1 1 2 2 1 0 2 1\n",
            " 2 2 1 2 1 1 2 1 1 1 1 2 1 1 1 1 1 2 1 1 2 1 1 2 1 1 2 2 1 1 1 1 1 2 0 2 2\n",
            " 1 1 1 1 2 1 2 2 1 1 1 2 1 1 2 1 2 0 2 1 2 2 1 1 2 2 1 2 1 2 2 1 1 2 2 1 1\n",
            " 1 2 1 1 2 1 2 2 2 2 2 2 0 2 2 0 2 2 2 1 2 1 2 2 1 2 2 1 2 2 2 0 1 2 0 2 1\n",
            " 2 2 2 2 2 1 2 2 2 1 2 1 2 2 1 1 1 2 1 2 2 1 2 2 2 0 1 2 2 2 1 1 2 0 1 1 2\n",
            " 0 2 0 1 1 1 1 1 1 1 1 2 2 1 1 1 2 1 2 2]\n"
          ],
          "name": "stdout"
        }
      ]
    },
    {
      "cell_type": "code",
      "metadata": {
        "id": "MytRWr4m8bg7",
        "colab_type": "code",
        "colab": {
          "base_uri": "https://localhost:8080/",
          "height": 571
        },
        "outputId": "75c92723-332d-4129-9e49-8fb05fc735c3"
      },
      "source": [
        "# ValidY needs to be updated to a list\n",
        "print(ValidY)\n",
        "print(predIdxs_valid)\n",
        "ValidY_list= predIdxs_valid\n",
        "for i in range(len(predIdxs_valid)):\n",
        "  if ValidY[i][0]==1:\n",
        "    ValidY_list[i]=0\n",
        "  elif ValidY[i][1]==1:\n",
        "    ValidY_list[i]=1\n",
        "  elif ValidY[i][2]==1:\n",
        "    ValidY_list[i]=2\n",
        "\n",
        "print(ValidY_list)\n"
      ],
      "execution_count": 27,
      "outputs": [
        {
          "output_type": "stream",
          "text": [
            "[[0. 1. 0.]\n",
            " [0. 0. 1.]\n",
            " [0. 0. 1.]\n",
            " ...\n",
            " [0. 1. 0.]\n",
            " [0. 1. 0.]\n",
            " [0. 0. 1.]]\n",
            "[1 2 2 1 2 2 2 2 2 2 2 2 2 2 1 0 1 1 1 1 1 1 2 1 2 2 2 1 2 1 2 2 2 0 1 1 2\n",
            " 2 0 1 1 1 1 2 2 1 1 2 1 1 1 1 1 1 1 1 1 2 2 1 1 1 0 2 1 2 2 0 1 2 2 1 2 2\n",
            " 2 1 1 0 2 0 1 1 1 1 2 1 2 1 1 1 1 2 2 2 2 2 1 1 2 1 2 1 1 2 2 2 0 2 2 2 2\n",
            " 2 1 0 1 1 1 2 2 2 1 1 2 1 2 1 2 1 2 2 2 0 1 1 2 2 1 1 1 2 2 1 1 1 1 1 0 1\n",
            " 1 1 2 2 2 2 2 2 1 0 0 2 2 2 1 2 0 2 2 1 2 1 2 2 2 1 1 1 2 2 2 2 1 1 1 1 2\n",
            " 2 1 2 2 2 1 2 1 1 1 2 2 2 2 2 1 1 1 2 2 1 1 0 1 1 0 1 2 1 1 0 1 2 1 2 1 1\n",
            " 2 1 1 2 2 1 1 0 2 1 1 2 1 1 2 1 2 2 0 2 1 2 2 2 0 2 1 1 1 2 1 1 0 1 2 2 2\n",
            " 2 2 1 2 2 1 2 1 1 2 0 2 2 1 0 1 1 1 2 2 1 2 1 2 2 0 2 1 2 1 1 2 2 1 0 2 1\n",
            " 2 2 1 2 1 1 2 1 1 1 1 2 1 1 1 1 1 2 1 1 2 1 1 2 1 1 2 2 1 1 1 1 1 2 0 2 2\n",
            " 1 1 1 1 2 1 2 2 1 1 1 2 1 1 2 1 2 0 2 1 2 2 1 1 2 2 1 2 1 2 2 1 1 2 2 1 1\n",
            " 1 2 1 1 2 1 2 2 2 2 2 2 0 2 2 0 2 2 2 1 2 1 2 2 1 2 2 1 2 2 2 0 1 2 0 2 1\n",
            " 2 2 2 2 2 1 2 2 2 1 2 1 2 2 1 1 1 2 1 2 2 1 2 2 2 0 1 2 2 2 1 1 2 0 1 1 2\n",
            " 0 2 0 1 1 1 1 1 1 1 1 2 2 1 1 1 2 1 2 2]\n",
            "[1 2 2 2 2 2 2 2 2 2 2 2 2 2 1 0 1 1 1 1 1 1 2 1 2 2 2 1 2 1 2 2 2 0 1 1 2\n",
            " 2 0 1 1 1 1 2 2 1 1 2 0 1 1 1 1 1 1 1 1 2 2 1 1 1 0 2 1 2 2 0 1 2 2 1 2 2\n",
            " 2 1 1 0 2 0 1 1 1 1 2 1 2 2 1 1 1 2 2 2 2 2 1 1 2 1 2 1 1 2 2 2 0 2 2 2 2\n",
            " 2 1 0 1 1 1 2 2 2 1 2 2 1 2 1 2 1 2 2 2 0 1 1 2 2 1 1 1 2 1 1 1 1 1 1 0 1\n",
            " 1 1 2 2 2 2 2 2 1 0 0 2 2 2 1 2 1 2 2 1 2 1 2 1 2 1 1 1 2 2 2 2 1 1 1 1 2\n",
            " 2 1 2 2 2 1 2 1 1 1 2 2 2 2 2 1 1 1 2 2 1 1 0 1 1 0 1 2 1 1 0 1 2 1 2 1 1\n",
            " 2 1 1 2 2 1 1 0 2 1 1 2 1 1 2 1 2 2 0 2 1 2 2 2 1 2 1 1 1 2 1 1 0 1 2 2 2\n",
            " 2 2 1 1 2 1 2 1 1 2 0 2 2 1 0 1 1 1 2 2 1 2 1 2 2 0 2 1 2 1 1 2 2 1 0 2 1\n",
            " 2 2 1 2 1 1 2 1 1 1 1 2 1 1 1 1 1 2 1 1 2 1 2 2 1 1 2 2 1 1 1 1 1 2 0 2 2\n",
            " 1 1 1 1 2 1 2 2 1 1 1 2 1 1 2 1 2 0 2 1 2 2 1 1 2 2 1 2 1 2 2 1 1 1 2 1 1\n",
            " 1 2 1 1 2 1 2 2 2 2 2 2 0 2 2 0 2 2 2 1 2 1 2 2 1 2 2 1 2 2 2 0 1 2 0 1 1\n",
            " 2 2 2 2 2 1 2 2 2 1 2 1 2 2 1 1 1 2 1 2 2 1 2 2 2 0 1 2 2 2 1 1 2 0 1 1 2\n",
            " 0 2 0 1 1 1 1 1 1 1 1 2 2 1 1 1 2 1 1 2]\n"
          ],
          "name": "stdout"
        }
      ]
    },
    {
      "cell_type": "code",
      "metadata": {
        "id": "bE4tHaxJlo6h",
        "colab_type": "code",
        "colab": {
          "base_uri": "https://localhost:8080/",
          "height": 185
        },
        "outputId": "873f1d00-285b-471a-c57c-0a3af0f562d3"
      },
      "source": [
        "print(classification_report(ValidY_list, predIdxs_valid,  digits = 5))"
      ],
      "execution_count": 33,
      "outputs": [
        {
          "output_type": "stream",
          "text": [
            "              precision    recall  f1-score   support\n",
            "\n",
            "           0    0.94286   0.97059   0.95652        34\n",
            "           1    0.97642   0.96279   0.96956       215\n",
            "           2    0.97235   0.98140   0.97685       215\n",
            "\n",
            "    accuracy                        0.97198       464\n",
            "   macro avg    0.96387   0.97159   0.96764       464\n",
            "weighted avg    0.97207   0.97198   0.97198       464\n",
            "\n"
          ],
          "name": "stdout"
        }
      ]
    },
    {
      "cell_type": "markdown",
      "metadata": {
        "id": "-kwCALyEfHDz",
        "colab_type": "text"
      },
      "source": [
        "Confusion Matrix"
      ]
    },
    {
      "cell_type": "code",
      "metadata": {
        "id": "HQlSfqoi91Qw",
        "colab_type": "code",
        "outputId": "a7a051a1-c807-4d1e-c7c8-c828bbcd75f9",
        "colab": {
          "base_uri": "https://localhost:8080/",
          "height": 67
        }
      },
      "source": [
        "from sklearn.metrics import confusion_matrix\n",
        "\n",
        "matrix = confusion_matrix(ValidY_list,predIdxs_valid )\n",
        "# report = metrics.classification_report(true_classes, predicted_classes, target_names=class_labels)\n",
        "print(matrix)    \n"
      ],
      "execution_count": 34,
      "outputs": [
        {
          "output_type": "stream",
          "text": [
            "[[ 33   1   0]\n",
            " [  2 207   6]\n",
            " [  0   4 211]]\n"
          ],
          "name": "stdout"
        }
      ]
    },
    {
      "cell_type": "code",
      "metadata": {
        "id": "H33UYhkpQyQK",
        "colab_type": "code",
        "colab": {}
      },
      "source": [
        "# from sklearn.metrics import multilabel_confusion_matrix\n",
        "\n",
        "# mcm= multilabel_confusion_matrix(testY_temp, predIdxs)"
      ],
      "execution_count": 0,
      "outputs": []
    },
    {
      "cell_type": "markdown",
      "metadata": {
        "id": "c4i_neLReHyZ",
        "colab_type": "text"
      },
      "source": [
        "ROC Curve"
      ]
    },
    {
      "cell_type": "code",
      "metadata": {
        "id": "Njrk7RzrZs8T",
        "colab_type": "code",
        "outputId": "d05ca78f-02d1-4b53-bb04-1db66c549143",
        "colab": {
          "base_uri": "https://localhost:8080/",
          "height": 880
        }
      },
      "source": [
        "#ROC Curve\n",
        "from sklearn.metrics import roc_curve, auc\n",
        "from sklearn.preprocessing import label_binarize\n",
        "from sklearn.metrics import roc_auc_score\n",
        "import matplotlib.pyplot as plt\n",
        "from scipy import interp\n",
        "import matplotlib.pyplot as plt\n",
        "%matplotlib inline\n",
        "\n",
        "y_test= label_binarize(ValidY_list,classes=[0,1,2])\n",
        "y_pred= label_binarize(predIdxs_valid,classes=[0,1,2])\n",
        "\n",
        "fpr = dict()\n",
        "tpr = dict()\n",
        "n_classes=3\n",
        "roc_auc = dict()\n",
        "for i in range(3):\n",
        "    fpr[i], tpr[i], _ = roc_curve(y_test[:, i], y_pred[:, i])\n",
        "    roc_auc[i] = auc(fpr[i], tpr[i])\n",
        "\n",
        "\n",
        "    \n",
        "for i in range(3):\n",
        "    plt.figure()\n",
        "    plt.plot(fpr[i],tpr[i],label='ROC curve (Area =%0.2f)' %roc_auc[i])\n",
        "    plt.plot([0,1],[0,1],'k--')\n",
        "    plt.xlim([0.0, 1.0])\n",
        "    plt.ylim([0.0,1.05])\n",
        "    plt.xlabel('False Positive Rate')\n",
        "    plt.ylabel('True Positive Rate')\n",
        "    plt.title('ROC')\n",
        "    plt.legend(loc=\"center\")\n",
        "    \n",
        "\n",
        "plt.show()\n",
        "   \n",
        "print(roc_auc)"
      ],
      "execution_count": 35,
      "outputs": [
        {
          "output_type": "display_data",
          "data": {
            "image/png": "[encoded data removed]",
            "text/plain": [
              "<Figure size 432x288 with 1 Axes>"
            ]
          },
          "metadata": {
            "tags": [],
            "needs_background": "light"
          }
        },
        {
          "output_type": "display_data",
          "data": {
            "image/png": "[encoded data removed]",
            "text/plain": [
              "<Figure size 432x288 with 1 Axes>"
            ]
          },
          "metadata": {
            "tags": [],
            "needs_background": "light"
          }
        },
        {
          "output_type": "display_data",
          "data": {
            "image/png": "[encoded data removed]",
            "text/plain": [
              "<Figure size 432x288 with 1 Axes>"
            ]
          },
          "metadata": {
            "tags": [],
            "needs_background": "light"
          }
        },
        {
          "output_type": "stream",
          "text": [
            "{0: 0.98296853625171, 1: 0.9713551881946391, 2: 0.9786494816475203}\n"
          ],
          "name": "stdout"
        }
      ]
    },
    {
      "cell_type": "markdown",
      "metadata": {
        "id": "v0EgihnKZs8a",
        "colab_type": "text"
      },
      "source": [
        "# GradCAM Visualisation"
      ]
    },
    {
      "cell_type": "code",
      "metadata": {
        "id": "MRcsbfWTZs8g",
        "colab_type": "code",
        "outputId": "8af7fbc8-bf1f-4166-c677-f807e5d9efd0",
        "colab": {
          "base_uri": "https://localhost:8080/",
          "height": 759
        }
      },
      "source": [
        "!pip install tf-keras-vis tensorflow\n",
        "\n",
        "import tensorflow as tf\n",
        "# from tf_keras_vis.utils import print_gpus\n",
        "\n",
        "import numpy as np\n",
        "from matplotlib import pyplot as plt\n",
        "%matplotlib inline\n",
        "from tensorflow.keras.preprocessing.image import load_img\n",
        "\n",
        "from tensorflow.keras import backend as K\n",
        "# from tf_keras_vis.saliency import Saliency\n",
        "# from tf_keras_vis.utils import normalize\n",
        "\n",
        "# # Create Saliency object\n",
        "# saliency = Saliency(model, model_modifier, clone=False)\n",
        "\n",
        "# # Generate saliency map\n",
        "# saliency_map = saliency(loss, X)\n",
        "# saliency_map = normalize(saliency_map)\n",
        "\n",
        "# f, ax = plt.subplots(**subprot_args)\n",
        "# for i in range(len(saliency_map)):\n",
        "#     ax[i].imshow(saliency_map[i], cmap='jet')\n",
        "# plt.tight_layout()\n",
        "# plt.show()\n",
        "\n"
      ],
      "execution_count": 36,
      "outputs": [
        {
          "output_type": "stream",
          "text": [
            "Collecting tf-keras-vis\n",
            "  Downloading https://files.pythonhosted.org/packages/c5/cc/c3c47ee3718b9c04a0e4dfb0411559f506c4a1000dbd9a4f5cc855fb41f1/tf_keras_vis-0.3.1-py3-none-any.whl\n",
            "Requirement already satisfied: tensorflow in /usr/local/lib/python3.6/dist-packages (2.2.0)\n",
            "Requirement already satisfied: pillow in /usr/local/lib/python3.6/dist-packages (from tf-keras-vis) (7.0.0)\n",
            "Requirement already satisfied: numpy in /usr/local/lib/python3.6/dist-packages (from tf-keras-vis) (1.18.5)\n",
            "Requirement already satisfied: imageio in /usr/local/lib/python3.6/dist-packages (from tf-keras-vis) (2.4.1)\n",
            "Requirement already satisfied: scipy in /usr/local/lib/python3.6/dist-packages (from tf-keras-vis) (1.4.1)\n",
            "Requirement already satisfied: h5py<2.11.0,>=2.10.0 in /usr/local/lib/python3.6/dist-packages (from tensorflow) (2.10.0)\n",
            "Requirement already satisfied: wrapt>=1.11.1 in /usr/local/lib/python3.6/dist-packages (from tensorflow) (1.12.1)\n",
            "Requirement already satisfied: grpcio>=1.8.6 in /usr/local/lib/python3.6/dist-packages (from tensorflow) (1.29.0)\n",
            "Requirement already satisfied: opt-einsum>=2.3.2 in /usr/local/lib/python3.6/dist-packages (from tensorflow) (3.2.1)\n",
            "Requirement already satisfied: absl-py>=0.7.0 in /usr/local/lib/python3.6/dist-packages (from tensorflow) (0.9.0)\n",
            "Requirement already satisfied: termcolor>=1.1.0 in /usr/local/lib/python3.6/dist-packages (from tensorflow) (1.1.0)\n",
            "Requirement already satisfied: gast==0.3.3 in /usr/local/lib/python3.6/dist-packages (from tensorflow) (0.3.3)\n",
            "Requirement already satisfied: protobuf>=3.8.0 in /usr/local/lib/python3.6/dist-packages (from tensorflow) (3.10.0)\n",
            "Requirement already satisfied: tensorboard<2.3.0,>=2.2.0 in /usr/local/lib/python3.6/dist-packages (from tensorflow) (2.2.2)\n",
            "Requirement already satisfied: tensorflow-estimator<2.3.0,>=2.2.0 in /usr/local/lib/python3.6/dist-packages (from tensorflow) (2.2.0)\n",
            "Requirement already satisfied: keras-preprocessing>=1.1.0 in /usr/local/lib/python3.6/dist-packages (from tensorflow) (1.1.2)\n",
            "Requirement already satisfied: wheel>=0.26; python_version >= \"3\" in /usr/local/lib/python3.6/dist-packages (from tensorflow) (0.34.2)\n",
            "Requirement already satisfied: google-pasta>=0.1.8 in /usr/local/lib/python3.6/dist-packages (from tensorflow) (0.2.0)\n",
            "Requirement already satisfied: six>=1.12.0 in /usr/local/lib/python3.6/dist-packages (from tensorflow) (1.12.0)\n",
            "Requirement already satisfied: astunparse==1.6.3 in /usr/local/lib/python3.6/dist-packages (from tensorflow) (1.6.3)\n",
            "Requirement already satisfied: setuptools in /usr/local/lib/python3.6/dist-packages (from protobuf>=3.8.0->tensorflow) (47.1.1)\n",
            "Requirement already satisfied: requests<3,>=2.21.0 in /usr/local/lib/python3.6/dist-packages (from tensorboard<2.3.0,>=2.2.0->tensorflow) (2.23.0)\n",
            "Requirement already satisfied: google-auth-oauthlib<0.5,>=0.4.1 in /usr/local/lib/python3.6/dist-packages (from tensorboard<2.3.0,>=2.2.0->tensorflow) (0.4.1)\n",
            "Requirement already satisfied: tensorboard-plugin-wit>=1.6.0 in /usr/local/lib/python3.6/dist-packages (from tensorboard<2.3.0,>=2.2.0->tensorflow) (1.6.0.post3)\n",
            "Requirement already satisfied: markdown>=2.6.8 in /usr/local/lib/python3.6/dist-packages (from tensorboard<2.3.0,>=2.2.0->tensorflow) (3.2.2)\n",
            "Requirement already satisfied: google-auth<2,>=1.6.3 in /usr/local/lib/python3.6/dist-packages (from tensorboard<2.3.0,>=2.2.0->tensorflow) (1.7.2)\n",
            "Requirement already satisfied: werkzeug>=0.11.15 in /usr/local/lib/python3.6/dist-packages (from tensorboard<2.3.0,>=2.2.0->tensorflow) (1.0.1)\n",
            "Requirement already satisfied: chardet<4,>=3.0.2 in /usr/local/lib/python3.6/dist-packages (from requests<3,>=2.21.0->tensorboard<2.3.0,>=2.2.0->tensorflow) (3.0.4)\n",
            "Requirement already satisfied: urllib3!=1.25.0,!=1.25.1,<1.26,>=1.21.1 in /usr/local/lib/python3.6/dist-packages (from requests<3,>=2.21.0->tensorboard<2.3.0,>=2.2.0->tensorflow) (1.24.3)\n",
            "Requirement already satisfied: idna<3,>=2.5 in /usr/local/lib/python3.6/dist-packages (from requests<3,>=2.21.0->tensorboard<2.3.0,>=2.2.0->tensorflow) (2.9)\n",
            "Requirement already satisfied: certifi>=2017.4.17 in /usr/local/lib/python3.6/dist-packages (from requests<3,>=2.21.0->tensorboard<2.3.0,>=2.2.0->tensorflow) (2020.4.5.1)\n",
            "Requirement already satisfied: requests-oauthlib>=0.7.0 in /usr/local/lib/python3.6/dist-packages (from google-auth-oauthlib<0.5,>=0.4.1->tensorboard<2.3.0,>=2.2.0->tensorflow) (1.3.0)\n",
            "Requirement already satisfied: importlib-metadata; python_version < \"3.8\" in /usr/local/lib/python3.6/dist-packages (from markdown>=2.6.8->tensorboard<2.3.0,>=2.2.0->tensorflow) (1.6.0)\n",
            "Requirement already satisfied: pyasn1-modules>=0.2.1 in /usr/local/lib/python3.6/dist-packages (from google-auth<2,>=1.6.3->tensorboard<2.3.0,>=2.2.0->tensorflow) (0.2.8)\n",
            "Requirement already satisfied: cachetools<3.2,>=2.0.0 in /usr/local/lib/python3.6/dist-packages (from google-auth<2,>=1.6.3->tensorboard<2.3.0,>=2.2.0->tensorflow) (3.1.1)\n",
            "Requirement already satisfied: rsa<4.1,>=3.1.4 in /usr/local/lib/python3.6/dist-packages (from google-auth<2,>=1.6.3->tensorboard<2.3.0,>=2.2.0->tensorflow) (4.0)\n",
            "Requirement already satisfied: oauthlib>=3.0.0 in /usr/local/lib/python3.6/dist-packages (from requests-oauthlib>=0.7.0->google-auth-oauthlib<0.5,>=0.4.1->tensorboard<2.3.0,>=2.2.0->tensorflow) (3.1.0)\n",
            "Requirement already satisfied: zipp>=0.5 in /usr/local/lib/python3.6/dist-packages (from importlib-metadata; python_version < \"3.8\"->markdown>=2.6.8->tensorboard<2.3.0,>=2.2.0->tensorflow) (3.1.0)\n",
            "Requirement already satisfied: pyasn1<0.5.0,>=0.4.6 in /usr/local/lib/python3.6/dist-packages (from pyasn1-modules>=0.2.1->google-auth<2,>=1.6.3->tensorboard<2.3.0,>=2.2.0->tensorflow) (0.4.8)\n",
            "Installing collected packages: tf-keras-vis\n",
            "Successfully installed tf-keras-vis-0.3.1\n"
          ],
          "name": "stdout"
        }
      ]
    },
    {
      "cell_type": "code",
      "metadata": {
        "id": "dhlF4qgSZs8k",
        "colab_type": "code",
        "outputId": "546875f6-ff09-4418-f64f-3e413c2dda92",
        "colab": {
          "base_uri": "https://localhost:8080/",
          "height": 323
        }
      },
      "source": [
        "import keras\n",
        "img_test= trainX[1]\n",
        "print(img_test.dtype)\n",
        "display(keras.preprocessing.image.array_to_img(img_test))\n",
        "print(trainY[1])\n",
        "print(type(img_test), img_test.shape)\n"
      ],
      "execution_count": 53,
      "outputs": [
        {
          "output_type": "stream",
          "text": [
            "float16\n"
          ],
          "name": "stdout"
        },
        {
          "output_type": "display_data",
          "data": {
            "image/png": "[encoded data removed]",
            "text/plain": [
              "<PIL.Image.Image image mode=RGB size=256x256 at 0x7F8E4E9D9860>"
            ]
          },
          "metadata": {
            "tags": []
          }
        },
        {
          "output_type": "stream",
          "text": [
            "[1. 0. 0.]\n",
            "<class 'numpy.ndarray'> (256, 256, 3)\n"
          ],
          "name": "stdout"
        }
      ]
    },
    {
      "cell_type": "code",
      "metadata": {
        "id": "c1dIQMXLZs8n",
        "colab_type": "code",
        "outputId": "8ce6a9f5-0f02-4754-a11b-b1c88471c733",
        "colab": {
          "base_uri": "https://localhost:8080/",
          "height": 34
        }
      },
      "source": [
        "img_test = np.expand_dims(img_test, axis=0)\n",
        "print(type(img_test), img_test.shape)\n"
      ],
      "execution_count": 46,
      "outputs": [
        {
          "output_type": "stream",
          "text": [
            "<class 'numpy.ndarray'> (1, 256, 256, 3)\n"
          ],
          "name": "stdout"
        }
      ]
    },
    {
      "cell_type": "code",
      "metadata": {
        "_kg_hide-output": true,
        "id": "zTJCKfOpZs8r",
        "colab_type": "code",
        "colab": {}
      },
      "source": [
        "from matplotlib import cm\n",
        "from tf_keras_vis.gradcam import Gradcam\n",
        "from tf_keras_vis.utils import normalize\n",
        "\n",
        "def model_modifier(m):\n",
        "    m.layers[-1].activation = tf.keras.activations.linear\n",
        "    return m\n",
        "def loss(output):\n",
        "    return (output[0][0], output[0][0])\n",
        "\n",
        "# Create Gradcam object\n",
        "gradcam = Gradcam(model, model_modifier, clone=False)\n",
        "\n",
        "# Generate heatmap with GradCAM\n",
        "cam = gradcam(loss,img_test )\n",
        "cam = normalize(cam)\n",
        "\n",
        "# cv2.imshow(\"viralp\", cam)\n",
        "\n",
        "# cv2.waitKey(0)\n",
        "# cv2.destroyAllWindows()\n",
        "\n",
        "# f, ax = plt.subplots(**subprot_args)\n",
        "# for i in range(len(cam)):\n",
        "#     heatmap = np.uint8(cm.jet(cam[i])[..., :3] * 255)\n",
        "#     ax[i].imshow(images[i])\n",
        "#     ax[i].imshow(heatmap, cmap='jet', alpha=0.5)\n",
        "# plt.tight_layout()\n",
        "# plt.show()\n",
        "subprot_args = {\n",
        "    'nrows': 1,\n",
        "    'ncols': 2,\n",
        "    'figsize': (6, 3),\n",
        "    'subplot_kw': {'xticks': [], 'yticks': []}\n",
        "}\n"
      ],
      "execution_count": 0,
      "outputs": []
    },
    {
      "cell_type": "code",
      "metadata": {
        "id": "cbCR0z7y2gIp",
        "colab_type": "code",
        "colab": {}
      },
      "source": [
        "img1 = trainX[1]\n",
        "img2 = trainX[2]\n",
        "images = np.asarray([np.array(img1) , np.array(img2)])\n"
      ],
      "execution_count": 0,
      "outputs": []
    },
    {
      "cell_type": "code",
      "metadata": {
        "id": "7_remk82Zs8w",
        "colab_type": "code",
        "outputId": "c8b893b4-fdf0-4e74-eb73-392b351d052e",
        "colab": {
          "base_uri": "https://localhost:8080/",
          "height": 225
        }
      },
      "source": [
        "f, ax = plt.subplots(**subprot_args)\n",
        "for i in range(len(cam)):\n",
        "    heatmap = np.uint8(cm.jet(cam[i])[..., :3] * 255)\n",
        "    # ax[i].imshow(images[i])\n",
        "    ax[i].imshow(heatmap, cmap='jet', alpha=0.5)\n",
        "plt.tight_layout()\n",
        "plt.show()"
      ],
      "execution_count": 49,
      "outputs": [
        {
          "output_type": "display_data",
          "data": {
            "image/png": "[encoded data removed]",
            "text/plain": [
              "<Figure size 432x216 with 2 Axes>"
            ]
          },
          "metadata": {
            "tags": []
          }
        }
      ]
    },
    {
      "cell_type": "markdown",
      "metadata": {
        "id": "s9aVS6gzZs80",
        "colab_type": "text"
      },
      "source": [
        "# "
      ]
    },
    {
      "cell_type": "markdown",
      "metadata": {
        "id": "PgFQspDRd_zR",
        "colab_type": "text"
      },
      "source": [
        "Test"
      ]
    },
    {
      "cell_type": "code",
      "metadata": {
        "id": "o1hXq75ikHFn",
        "colab_type": "code",
        "colab": {}
      },
      "source": [
        "# testX = np.load(\"/content/drive/My Drive/Colab Notebooks/testx.npy\")\n",
        "# testY = np.load(\"/content/drive/My Drive/Colab Notebooks/testy.npy\")"
      ],
      "execution_count": 0,
      "outputs": []
    },
    {
      "cell_type": "code",
      "metadata": {
        "id": "SlhV75UTZNQj",
        "colab_type": "code",
        "outputId": "9ca3c4d6-a52a-494f-e28e-4d26eba4561e",
        "colab": {
          "base_uri": "https://localhost:8080/",
          "height": 168
        }
      },
      "source": [
        "# import numpy as np\n",
        "# from imblearn.metrics import classification_report_imbalanced\n",
        "# from imblearn.metrics import specificity_score\n",
        "\n",
        "# # print(classification_report_imbalanced(testY_temp, predIdxs))\n",
        "# print(specificity_score(testY_temp, predIdxs, average='weighted'))"
      ],
      "execution_count": 0,
      "outputs": [
        {
          "output_type": "stream",
          "text": [
            "                   pre       rec       spe        f1       geo       iba       sup\n",
            "\n",
            "          0       1.00      0.94      1.00      0.97      0.97      0.93        49\n",
            "          1       0.95      0.97      0.96      0.96      0.96      0.93       269\n",
            "          2       0.96      0.96      0.97      0.96      0.96      0.92       269\n",
            "\n",
            "avg / total       0.96      0.96      0.97      0.96      0.96      0.93       587\n",
            "\n",
            "0.9654141621934365\n"
          ],
          "name": "stdout"
        }
      ]
    },
    {
      "cell_type": "code",
      "metadata": {
        "id": "8_YBDpGvZs8M",
        "colab_type": "code",
        "colab": {}
      },
      "source": [
        "# predIdxs = model.predict(testX_new, batch_size=32)\n",
        "# predIdxs = np.argmax(predIdxs, axis=1)\n",
        "# # predIdxs= predIdxs.tolist()\n",
        "# print(classification_report(testY_temp.argmax(axis=1), predIdxs, target_names=le.classes_, digits = 5))"
      ],
      "execution_count": 0,
      "outputs": []
    },
    {
      "cell_type": "code",
      "metadata": {
        "id": "cLibLit7Zs81",
        "colab_type": "code",
        "colab": {}
      },
      "source": [
        "# !pip install keras-vis"
      ],
      "execution_count": 0,
      "outputs": []
    },
    {
      "cell_type": "code",
      "metadata": {
        "id": "JB8gz1tSZs83",
        "colab_type": "code",
        "colab": {}
      },
      "source": [
        "# print(Y[2009])"
      ],
      "execution_count": 0,
      "outputs": []
    },
    {
      "cell_type": "code",
      "metadata": {
        "id": "zOzb04n3Zs87",
        "colab_type": "code",
        "colab": {}
      },
      "source": [
        "# ynew = model.predict(img_test)\n",
        "# print(ynew)\n",
        "# print(ynew[0][0])\n",
        "# print(ynew[0][1])\n",
        "# print(ynew[0][2])"
      ],
      "execution_count": 0,
      "outputs": []
    },
    {
      "cell_type": "code",
      "metadata": {
        "id": "H2tXVfyiZs9A",
        "colab_type": "code",
        "colab": {}
      },
      "source": [
        "# print(images.dtype)"
      ],
      "execution_count": 0,
      "outputs": []
    },
    {
      "cell_type": "code",
      "metadata": {
        "id": "M4NcxsfAZs9D",
        "colab_type": "code",
        "colab": {}
      },
      "source": [
        "\n",
        "# from tensorflow.keras import backend as K\n",
        "# from tf_keras_vis.saliency import Saliency\n",
        "# from tf_keras_vis.utils import normalize\n",
        "\n",
        "# # Create Saliency object\n",
        "# saliency = Saliency(model, model_modifier, clone=False)\n",
        "\n",
        "# # Generate saliency map\n",
        "# # saliency_map = saliency(loss, X_pre)\n",
        "# # saliency_map = normalize(saliency_map)\n",
        "\n",
        "# # f, ax = plt.subplots(**subprot_args)\n",
        "# # for i in range(len(saliency_map)):\n",
        "# #     ax[i].imshow(saliency_map[i], cmap='jet')\n",
        "# # plt.tight_layout()\n",
        "# # plt.show()\n",
        "\n",
        "# saliency_map = saliency(loss, X_pre, smooth_samples=20)\n",
        "# saliency_map = normalize(saliency_map)\n",
        "\n",
        "# f, ax = plt.subplots(**subprot_args)\n",
        "# for i in range(len(saliency_map)):\n",
        "#     ax[i].imshow(saliency_map[i], cmap='jet')\n",
        "# plt.tight_layout()\n",
        "# plt.show()"
      ],
      "execution_count": 0,
      "outputs": []
    },
    {
      "cell_type": "code",
      "metadata": {
        "id": "eU-x8DJ_Zs9K",
        "colab_type": "code",
        "colab": {}
      },
      "source": [
        "# for ilayer, layer in enumerate(model.layers):\n",
        "#     print(\"{:3.0f} {:10}\".format(ilayer, layer.name))\n"
      ],
      "execution_count": 0,
      "outputs": []
    },
    {
      "cell_type": "code",
      "metadata": {
        "id": "S5i6ab6LZs9P",
        "colab_type": "code",
        "colab": {}
      },
      "source": [
        ""
      ],
      "execution_count": 0,
      "outputs": []
    },
    {
      "cell_type": "code",
      "metadata": {
        "id": "f0kA6J2sZs9V",
        "colab_type": "code",
        "colab": {}
      },
      "source": [
        "\n",
        "# import tensorflow as tf\n",
        "# import tensorflow.keras\n",
        "\n",
        "# import vis ## keras-vis\n",
        "# import matplotlib.pyplot as plt\n",
        "# import numpy as np\n",
        "# print(\"keras      {}\".format(keras.__version__))\n",
        "# print(\"tensorflow {}\".format(tf.__version__))# import keras\n"
      ],
      "execution_count": 0,
      "outputs": []
    },
    {
      "cell_type": "code",
      "metadata": {
        "id": "LxbA-6D2Zs9Y",
        "colab_type": "code",
        "colab": {}
      },
      "source": [
        "# from scipy.fftpack import _init_nd_shape_and_axes_sorted"
      ],
      "execution_count": 0,
      "outputs": []
    },
    {
      "cell_type": "code",
      "metadata": {
        "id": "x-Barqe3Zs9b",
        "colab_type": "code",
        "colab": {}
      },
      "source": [
        "# from vis.utils import utils\n",
        "# # Utility to search for layer index by name. \n",
        "# # Alternatively we can specify this as -1 since it corresponds to the last layer.\n",
        "# layer_idx = utils.find_layer_idx(model, 'dense_1')\n",
        "# # Swap softmax with linear\n",
        "# model.layers[layer_idx].activation = keras.activations.linear\n",
        "# model = utils.apply_modifications(model,)"
      ],
      "execution_count": 0,
      "outputs": []
    },
    {
      "cell_type": "code",
      "metadata": {
        "id": "z5DPWq5_Zs9e",
        "colab_type": "code",
        "colab": {}
      },
      "source": [
        "# from vis.visualization import visualize_cam\n",
        "# penultimate_layer_idx = utils.find_layer_idx(model, \"block5_conv3\") \n",
        "# class_idx  = class_idxs_sorted[0]\n",
        "# seed_input = img\n",
        "# grad_top1  = visualize_cam(model, layer_idx, class_idx, seed_input, \n",
        "#                            penultimate_layer_idx = penultimate_layer_idx,#None,\n",
        "#                            backprop_modifier     = None,\n",
        "#                            grad_modifier         = None)"
      ],
      "execution_count": 0,
      "outputs": []
    },
    {
      "cell_type": "code",
      "metadata": {
        "id": "oSSt2A9fZs9h",
        "colab_type": "code",
        "colab": {}
      },
      "source": [
        "# def plot_map(grads):\n",
        "#     fig, axes = plt.subplots(1,2,figsize=(14,5))\n",
        "#     axes[0].imshow(_img)\n",
        "#     axes[1].imshow(_img)\n",
        "#     i = axes[1].imshow(grads,cmap=\"jet\",alpha=0.8)\n",
        "#     fig.colorbar(i)\n",
        "#     plt.suptitle(\"Pr(class={}) = {:5.2f}\".format(\n",
        "#                       classlabel[class_idx],\n",
        "#                       y_pred[0,class_idx]))\n",
        "# plot_map(grad_top1)"
      ],
      "execution_count": 0,
      "outputs": []
    },
    {
      "cell_type": "code",
      "metadata": {
        "id": "S_V80KVjZs9j",
        "colab_type": "code",
        "colab": {}
      },
      "source": [
        "# for class_idx in class_idxs_sorted[:topNclass]:\n",
        "#     grads  = visualize_cam(model,layer_idx,class_idx, seed_input,\n",
        "#                            penultimate_layer_idx = penultimate_layer_idx,\n",
        "#                            backprop_modifier     = None,\n",
        "#                            grad_modifier         = None)\n",
        "#     plot_map(grads)"
      ],
      "execution_count": 0,
      "outputs": []
    },
    {
      "cell_type": "code",
      "metadata": {
        "id": "NF5wealaZs9m",
        "colab_type": "code",
        "colab": {}
      },
      "source": [
        "# densenet = DenseNet121(\n",
        "#     weights='../input/densenet-keras/DenseNet-BC-121-32-no-top.h5',\n",
        "#     include_top=False,\n",
        "#     input_shape=(32,32,3)\n",
        "# )\n",
        "\n",
        "\n",
        "# modeld = Sequential()\n",
        "# modeld.add(densenet)\n",
        "# modeld.add(layers.GlobalAveragePooling2D())\n",
        "# modeld.add(layers.Dense(14, activation='softmax'))\n",
        "\n",
        "# model.compile(loss='categorical_crossentropy',\n",
        "#               optimizer='adam',\n",
        "#               metrics=['accuracy'])\n",
        "\n",
        "# model.summary()\n",
        "\n",
        "# model.compile(\n",
        "#     loss='categorical_crossentropy',\n",
        "#     optimizer='adam',\n",
        "#     metrics=['accuracy']\n",
        "# )\n",
        "\n",
        "# checkpoint = ModelCheckpoint(\n",
        "#     'model.h5', \n",
        "#     monitor='val_acc', \n",
        "#     verbose=1, \n",
        "#     save_best_only=True, \n",
        "#     save_weights_only=False,\n",
        "#     mode='auto'\n",
        "# )\n",
        "\n",
        "# history = model.fit(\n",
        "#     x=x_train,\n",
        "#     y=y_train,\n",
        "#     batch_size=64,\n",
        "#     epochs=7,\n",
        "#     callbacks=[checkpoint, f1_metrics],\n",
        "#     validation_split=0.1\n",
        "# )"
      ],
      "execution_count": 0,
      "outputs": []
    }
  ]
}